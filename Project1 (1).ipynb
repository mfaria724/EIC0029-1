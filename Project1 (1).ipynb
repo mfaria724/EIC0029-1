{
 "cells": [
  {
   "cell_type": "code",
   "execution_count": 8,
   "metadata": {},
   "outputs": [],
   "source": [
    "def printboard(board):\n",
    "    for row in range(8):\n",
    "        for col in range(8):\n",
    "            print(board[(row,col)], end = \"  \")\n",
    "        print()"
   ]
  },
  {
   "cell_type": "code",
   "execution_count": 2,
   "metadata": {},
   "outputs": [],
   "source": [
    "def emptyboard():\n",
    "    board = {}\n",
    "    for row in range(8):\n",
    "        for col in range(8):\n",
    "            board[(row,col)] = '.'\n",
    "    return board"
   ]
  },
  {
   "cell_type": "code",
   "execution_count": 3,
   "metadata": {},
   "outputs": [],
   "source": [
    "def level1_init(board):\n",
    "    for row in [0,7]:\n",
    "        for col in range(8):\n",
    "            board[(row,col)] = 'W'\n",
    "    for col in [0,7]:\n",
    "        for row in range(8):\n",
    "            board[(row,col)] = 'W'\n",
    "    board[(1,1)] = 'X'\n",
    "    board[(4,4)] = 'B'\n",
    "    board[(6,6)] = 'H'\n",
    "    board[(7,6)] = 'E'\n",
    "    return board"
   ]
  },
  {
   "cell_type": "code",
   "execution_count": 13,
   "metadata": {},
   "outputs": [],
   "source": [
    "def get_val(board,coord):\n",
    "    row = coord[0]\n",
    "    col = coord[1]\n",
    "    if row < 0 or col < 0 or row > 7 or col > 7:\n",
    "        print(\"Error!\")\n",
    "    \n",
    "    return board[(row,col)]"
   ]
  },
  {
   "cell_type": "code",
   "execution_count": null,
   "metadata": {},
   "outputs": [],
   "source": [
    "def set_val(board,coord,sign):\n",
    "    row = coord[0]\n",
    "    col = coord[1]\n",
    "    if row < 0 or col < 0 or row > 7 or col > 7:\n",
    "        print(\"Error!\")\n",
    "    \n",
    "    board[(row,col)] = sign\n",
    "    return board"
   ]
  },
  {
   "cell_type": "code",
   "execution_count": null,
   "metadata": {},
   "outputs": [],
   "source": [
    "def get_next(board, coord, direc):\n",
    "    if direc == 'up':\n",
    "        coord_next = [(coord[0]-1, coord[1])]\n",
    "        coord_next2 = [(coord[0]-2, coord[1])]       \n",
    "    elif direc == 'down':\n",
    "        coord_next = [(coord[0]+1, coord[1])]\n",
    "        coord_next2 = [(coord[0]+2, coord[1])]\n",
    "    elif direc == 'left':\n",
    "        coord_next = [(coord[0], coord[1]-1)]\n",
    "        coord_next2 = [(coord[0], coord[1]-2)]\n",
    "    elif direc == 'right':\n",
    "        coord_next = [(coord[0], coord[1]+1)]\n",
    "        coord_next2 = [(coord[0], coord[1]+2)]\n",
    "    \n",
    "    return (coord_next, coord_next2)"
   ]
  },
  {
   "cell_type": "code",
   "execution_count": null,
   "metadata": {},
   "outputs": [],
   "source": [
    "def get_options(board, coord, direc):\n",
    "    \n",
    "    (coord_next, coord_next2) = get_next(board, coord, direc)\n",
    "    \n",
    "    val = get_val(board, coord_next)\n",
    "    val2 = get_val(board, coord_next2)\n",
    "    \n",
    "    if val = '.':\n",
    "        return step(board, coord, direc)\n",
    "    \n",
    "    if val = 'B' and val2 = '.':\n",
    "        return push(board, coord, direc)\n",
    "    if val = 'B' and val2 = 'H':\n",
    "        return push_fill(board, coord, direc)\n",
    "    if val = 'B' and val2 = 'W':\n",
    "        return None\n",
    "    \n",
    "    if val = 'I' and val2 = '.':\n",
    "        return push(board, coord, direc)\n",
    "    if val = 'B' and val2 = 'H':\n",
    "        return push_fill(board, coord, direc)\n",
    "    if val = 'B' and val2 = 'W':\n",
    "        return None"
   ]
  },
  {
   "cell_type": "code",
   "execution_count": null,
   "metadata": {},
   "outputs": [],
   "source": [
    "def step(board, coord, direc):\n",
    "    (coord_next, _) = get_next(board, coord, direc)\n",
    "    board = set_val(board,coord,'.')\n",
    "    board = set_val(board,coord_next,'X')\n",
    "    return board"
   ]
  },
  {
   "cell_type": "code",
   "execution_count": null,
   "metadata": {},
   "outputs": [],
   "source": [
    "def push(board, coord, direc):\n",
    "    (coord_next, coord_next2) = get_next(board, coord, direc)\n",
    "    board = set_val(board,coord,'.')\n",
    "    board = set_val(board,coord_next,'X')\n",
    "    board = set_val(board,coord_next2,'B')\n",
    "    return board      "
   ]
  },
  {
   "cell_type": "code",
   "execution_count": null,
   "metadata": {},
   "outputs": [],
   "source": [
    "def push_fill(board, coord, direc):\n",
    "    (coord_next, coord_next2) = get_next(board, coord, direc)\n",
    "    board = set_val(board,coord,'.')\n",
    "    board = set_val(board,coord_next,'X')\n",
    "    board = set_val(board,coord_next2,'.')\n",
    "    return board  "
   ]
  },
  {
   "cell_type": "code",
   "execution_count": null,
   "metadata": {},
   "outputs": [],
   "source": [
    "def slide(board, coord, direc):\n",
    "    (coord_next, coord_next2) = get_next(board, coord, direc)\n",
    "    board = set_val(board,coord,'.')\n",
    "    board = set_val(board,coord_next,'X')\n",
    "    coord = coord_next\n",
    "    coord_next = coord_next2\n",
    "\n",
    "    while coord_next != 'W' or coord_next != 'H':\n",
    "        (coord_next,_) = get_next(board, coord, direc)\n",
    "    \n",
    "    if coord_next == 'W':\n",
    "        board = set_val(board,coord,'B') \n",
    "    elif coord_next == 'H':\n",
    "        board = set_val(board,coord_next,'.')\n"
   ]
  },
  {
   "cell_type": "code",
   "execution_count": 10,
   "metadata": {},
   "outputs": [],
   "source": [
    "def main():\n",
    "    board = emptyboard()\n",
    "    board=level1_init(board)\n",
    "    printboard(board)"
   ]
  },
  {
   "cell_type": "code",
   "execution_count": 11,
   "metadata": {},
   "outputs": [
    {
     "name": "stdout",
     "output_type": "stream",
     "text": [
      "W  W  W  W  W  W  W  W  \n",
      "W  X  .  .  .  .  .  W  \n",
      "W  .  .  .  .  .  .  W  \n",
      "W  .  .  .  .  .  .  W  \n",
      "W  .  .  .  B  .  .  W  \n",
      "W  .  .  .  .  .  .  W  \n",
      "W  .  .  .  .  .  H  W  \n",
      "W  W  W  W  W  W  E  W  \n"
     ]
    }
   ],
   "source": [
    "main()"
   ]
  },
  {
   "cell_type": "code",
   "execution_count": null,
   "metadata": {},
   "outputs": [],
   "source": []
  }
 ],
 "metadata": {
  "kernelspec": {
   "display_name": "Python 3",
   "language": "python",
   "name": "python3"
  },
  "language_info": {
   "codemirror_mode": {
    "name": "ipython",
    "version": 3
   },
   "file_extension": ".py",
   "mimetype": "text/x-python",
   "name": "python",
   "nbconvert_exporter": "python",
   "pygments_lexer": "ipython3",
   "version": "3.7.3"
  },
  "varInspector": {
   "cols": {
    "lenName": 16,
    "lenType": 16,
    "lenVar": 40
   },
   "kernels_config": {
    "python": {
     "delete_cmd_postfix": "",
     "delete_cmd_prefix": "del ",
     "library": "var_list.py",
     "varRefreshCmd": "print(var_dic_list())"
    },
    "r": {
     "delete_cmd_postfix": ") ",
     "delete_cmd_prefix": "rm(",
     "library": "var_list.r",
     "varRefreshCmd": "cat(var_dic_list()) "
    }
   },
   "types_to_exclude": [
    "module",
    "function",
    "builtin_function_or_method",
    "instance",
    "_Feature"
   ],
   "window_display": false
  }
 },
 "nbformat": 4,
 "nbformat_minor": 4
}
